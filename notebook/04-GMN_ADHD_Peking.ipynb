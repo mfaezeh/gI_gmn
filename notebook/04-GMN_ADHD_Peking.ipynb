{
 "cells": [
  {
   "cell_type": "code",
   "execution_count": 1,
   "metadata": {},
   "outputs": [],
   "source": [
    "# %matplotlib inline\n",
    "import numpy as np\n",
    "from sklearn.covariance import GraphicalLasso\n",
    "import os\n",
    "import sys\n",
    "import math\n",
    "import numpy as np\n",
    "import pandas as pd\n",
    "import nibabel as nib\n",
    "from scipy import stats\n",
    "from nilearn.maskers import NiftiLabelsMasker\n",
    "from nilearn import plotting\n",
    "import matplotlib.pyplot as plt\n",
    "import seaborn as sns\n",
    "import random\n",
    "from sklearn.cluster import KMeans\n",
    "import importlib\n",
    "\n",
    "\n",
    "import gi_gmn\n",
    "import gi_gmn.utils as giu\n",
    "import gi_gmn.models as gim"
   ]
  },
  {
   "cell_type": "code",
   "execution_count": 2,
   "metadata": {},
   "outputs": [],
   "source": [
    "NP_train = 20\n",
    "NC_train = 20\n",
    "NP = 29\n",
    "NC = 29\n",
    "NPRE = 16\n",
    "NP_test = NP - NP_train\n",
    "NC_test = NC - NC_train\n",
    "TR_P = 225\n",
    "TR = 340\n",
    "NRecord = 1\n",
    "ROI = 120\n",
    "\n",
    "#based on AAL atlas\n",
    "all_col = ['Precentral_L', 'Precentral_R', 'Frontal_Sup_2_L', 'Frontal_Sup_2_R', 'Frontal_Mid_2_L', 'Frontal_Mid_2_R', 'Frontal_Inf_Oper_L', 'Frontal_Inf_Oper_R', 'Frontal_Inf_Tri_L', 'Frontal_Inf_Tri_R', 'Frontal_Inf_Orb_2_L', 'Frontal_Inf_Orb_2_R', 'Rolandic_Oper_L', 'Rolandic_Oper_R', 'Supp_Motor_Area_L', 'Supp_Motor_Area_R', 'Olfactory_L', 'Olfactory_R', 'Frontal_Sup_Medial_L', 'Frontal_Sup_Medial_R', 'Frontal_Med_Orb_L', 'Frontal_Med_Orb_R', 'Rectus_L', 'Rectus_R', 'OFCmed_L', 'OFCmed_R', 'OFCant_L', 'OFCant_R', 'OFCpost_L', 'OFCpost_R', 'OFClat_L', 'OFClat_R', 'Insula_L', 'Insula_R', 'Cingulate_Ant_L', 'Cingulate_Ant_R', 'Cingulate_Mid_L', 'Cingulate_Mid_R', 'Cingulate_Post_L', 'Cingulate_Post_R', 'Hippocampus_L', 'Hippocampus_R', 'ParaHippocampal_L', 'ParaHippocampal_R', 'Amygdala_L', 'Amygdala_R', 'Calcarine_L', 'Calcarine_R', 'Cuneus_L', 'Cuneus_R', 'Lingual_L', 'Lingual_R', 'Occipital_Sup_L', 'Occipital_Sup_R', 'Occipital_Mid_L', 'Occipital_Mid_R', 'Occipital_Inf_L', 'Occipital_Inf_R', 'Fusiform_L', 'Fusiform_R', 'Postcentral_L', 'Postcentral_R', 'Parietal_Sup_L', 'Parietal_Sup_R', 'Parietal_Inf_L', 'Parietal_Inf_R', 'SupraMarginal_L', 'SupraMarginal_R', 'Angular_L', 'Angular_R', 'Precuneus_L', 'Precuneus_R', 'Paracentral_Lobule_L', 'Paracentral_Lobule_R', 'Caudate_L', 'Caudate_R', 'Putamen_L', 'Putamen_R', 'Pallidum_L', 'Pallidum_R', 'Thalamus_L', 'Thalamus_R', 'Heschl_L', 'Heschl_R', 'Temporal_Sup_L', 'Temporal_Sup_R', 'Temporal_Pole_Sup_L', 'Temporal_Pole_Sup_R', 'Temporal_Mid_L', 'Temporal_Mid_R', 'Temporal_Pole_Mid_L', 'Temporal_Pole_Mid_R', 'Temporal_Inf_L', 'Temporal_Inf_R', 'Cerebelum_Crus1_L', 'Cerebelum_Crus1_R', 'Cerebelum_Crus2_L', 'Cerebelum_Crus2_R', 'Cerebelum_3_L', 'Cerebelum_3_R', 'Cerebelum_4_5_L', 'Cerebelum_4_5_R', 'Cerebelum_6_L', 'Cerebelum_6_R', 'Cerebelum_7b_L', 'Cerebelum_7b_R', 'Cerebelum_8_L', 'Cerebelum_8_R', 'Cerebelum_9_L', 'Cerebelum_9_R', 'Cerebelum_10_L', 'Cerebelum_10_R', 'Vermis_1_2', 'Vermis_3', 'Vermis_4_5', 'Vermis_6', 'Vermis_7', 'Vermis_8', 'Vermis_9', 'Vermis_10']\n"
   ]
  },
  {
   "cell_type": "code",
   "execution_count": 3,
   "metadata": {},
   "outputs": [],
   "source": [
    "def get_subject_(path1,masker):  # two record version\n",
    "        file_GM = nib.load(path1)             \n",
    "        file_data = nib.load(path1).get_fdata()\n",
    "\n",
    "        fileo = nib.Nifti1Image(file_data, file_GM.affine)  \n",
    "        DMN_signals = masker.fit_transform(fileo)\n",
    "        # print(DMN_signals.shape,NR)\n",
    "        \n",
    "        #Normalize time series of each ROI independetly with mean of one and std of zero\n",
    "        for i in range(ROI):\n",
    "            mu = np.mean(DMN_signals[:,i],axis=0)\n",
    "            std = np.std(DMN_signals[:,i],axis=0)\n",
    "            DMN_signals[:,i] = (DMN_signals[:,i] - mu)/std\n",
    "        \n",
    "        return DMN_signals"
   ]
  },
  {
   "cell_type": "code",
   "execution_count": 33,
   "metadata": {},
   "outputs": [
    {
     "name": "stdout",
     "output_type": "stream",
     "text": [
      "sub-1056121\n",
      "(225, 120)\n",
      "sub-1133221\n",
      "(225, 120)\n",
      "sub-1186237\n",
      "(225, 120)\n",
      "sub-1419103\n",
      "(225, 120)\n",
      "sub-1951511\n",
      "(225, 120)\n",
      "sub-1581470\n",
      "(225, 120)\n",
      "sub-2024999\n",
      "(225, 120)\n",
      "sub-1408093\n",
      "(225, 120)\n",
      "sub-1282248\n",
      "(225, 120)\n",
      "sub-1791543\n",
      "(225, 120)\n",
      "sub-1302449\n",
      "(225, 120)\n",
      "sub-1854691\n",
      "(225, 120)\n",
      "sub-1245758\n",
      "(225, 120)\n",
      "sub-1849382\n",
      "(225, 120)\n",
      "sub-2123983\n",
      "(225, 120)\n",
      "sub-1201251\n",
      "(225, 120)\n",
      "sub-1805037\n",
      "(225, 120)\n",
      "sub-1139030\n",
      "(225, 120)\n",
      "sub-1258069\n",
      "(225, 120)\n",
      "sub-1113498\n",
      "(225, 120)\n",
      "sub-1240299\n",
      "(225, 120)\n",
      "sub-1947991\n",
      "(225, 120)\n",
      "sub-1253411\n",
      "(225, 120)\n",
      "sub-2051479\n",
      "(225, 120)\n",
      "sub-2101067\n",
      "(225, 120)\n",
      "sub-1784368\n",
      "(225, 120)\n",
      "sub-1985430\n",
      "(225, 120)\n",
      "sub-2081754\n",
      "(225, 120)\n",
      "sub-1686092\n",
      "(225, 120)\n",
      "ADHD_peking.csv\n"
     ]
    },
    {
     "ename": "FileNotFoundError",
     "evalue": "No such file or no access: '/users/grad/fmoradi/Graphical_LASSO/ADHD_Peking/ADHD_peking.csv/ses-1/func/ADHD_peking.csv_ses-1_task-rest_run-1_bold.denoise/Denoised_ADHD_peking.csv_ses-1_task-rest_run-1_bold_MNI.nii.gz'",
     "output_type": "error",
     "traceback": [
      "\u001b[0;31m---------------------------------------------------------------------------\u001b[0m",
      "\u001b[0;31mNotADirectoryError\u001b[0m                        Traceback (most recent call last)",
      "\u001b[0;32m~/.local/lib/python3.7/site-packages/nibabel/loadsave.py\u001b[0m in \u001b[0;36mload\u001b[0;34m(filename, **kwargs)\u001b[0m\n\u001b[1;32m     41\u001b[0m     \u001b[0;32mtry\u001b[0m\u001b[0;34m:\u001b[0m\u001b[0;34m\u001b[0m\u001b[0;34m\u001b[0m\u001b[0m\n\u001b[0;32m---> 42\u001b[0;31m         \u001b[0mstat_result\u001b[0m \u001b[0;34m=\u001b[0m \u001b[0mos\u001b[0m\u001b[0;34m.\u001b[0m\u001b[0mstat\u001b[0m\u001b[0;34m(\u001b[0m\u001b[0mfilename\u001b[0m\u001b[0;34m)\u001b[0m\u001b[0;34m\u001b[0m\u001b[0;34m\u001b[0m\u001b[0m\n\u001b[0m\u001b[1;32m     43\u001b[0m     \u001b[0;32mexcept\u001b[0m \u001b[0mOSError\u001b[0m\u001b[0;34m:\u001b[0m\u001b[0;34m\u001b[0m\u001b[0;34m\u001b[0m\u001b[0m\n",
      "\u001b[0;31mNotADirectoryError\u001b[0m: [Errno 20] Not a directory: '/users/grad/fmoradi/Graphical_LASSO/ADHD_Peking/ADHD_peking.csv/ses-1/func/ADHD_peking.csv_ses-1_task-rest_run-1_bold.denoise/Denoised_ADHD_peking.csv_ses-1_task-rest_run-1_bold_MNI.nii.gz'",
      "\nDuring handling of the above exception, another exception occurred:\n",
      "\u001b[0;31mFileNotFoundError\u001b[0m                         Traceback (most recent call last)",
      "\u001b[0;32m/tmp/ipykernel_219033/1391275928.py\u001b[0m in \u001b[0;36m<module>\u001b[0;34m\u001b[0m\n\u001b[1;32m     13\u001b[0m     \u001b[0;31m#    /users/grad/fmoradi/Graphical_LASSO/ADHD_Peking/sub-1056121/ses-1/func/sub-1056121_ses-1_task-rest_run-1_bold.denoise/Denoised_sub-1056121_ses-1_task-rest_run-1_bold_MNI.nii.gz\u001b[0m\u001b[0;34m\u001b[0m\u001b[0;34m\u001b[0m\u001b[0;34m\u001b[0m\u001b[0m\n\u001b[1;32m     14\u001b[0m \u001b[0;34m\u001b[0m\u001b[0m\n\u001b[0;32m---> 15\u001b[0;31m         \u001b[0mgr1\u001b[0m \u001b[0;34m=\u001b[0m \u001b[0mget_subject_\u001b[0m\u001b[0;34m(\u001b[0m\u001b[0mgroup1_dir\u001b[0m\u001b[0;34m,\u001b[0m\u001b[0mmasker\u001b[0m\u001b[0;34m)\u001b[0m\u001b[0;34m[\u001b[0m\u001b[0;34m:\u001b[0m\u001b[0mTR\u001b[0m\u001b[0;34m,\u001b[0m\u001b[0;34m:\u001b[0m\u001b[0mROI\u001b[0m\u001b[0;34m]\u001b[0m\u001b[0;34m\u001b[0m\u001b[0;34m\u001b[0m\u001b[0m\n\u001b[0m\u001b[1;32m     16\u001b[0m         \u001b[0mprint\u001b[0m\u001b[0;34m(\u001b[0m\u001b[0mgr1\u001b[0m\u001b[0;34m.\u001b[0m\u001b[0mshape\u001b[0m\u001b[0;34m)\u001b[0m\u001b[0;34m\u001b[0m\u001b[0;34m\u001b[0m\u001b[0m\n\u001b[1;32m     17\u001b[0m         \u001b[0mgroup1\u001b[0m \u001b[0;34m=\u001b[0m \u001b[0mgroup1\u001b[0m\u001b[0;34m.\u001b[0m\u001b[0mappend\u001b[0m\u001b[0;34m(\u001b[0m\u001b[0mpd\u001b[0m\u001b[0;34m.\u001b[0m\u001b[0mDataFrame\u001b[0m\u001b[0;34m(\u001b[0m\u001b[0mgr1\u001b[0m\u001b[0;34m)\u001b[0m\u001b[0;34m,\u001b[0m\u001b[0mignore_index\u001b[0m\u001b[0;34m=\u001b[0m\u001b[0;32mTrue\u001b[0m\u001b[0;34m)\u001b[0m\u001b[0;34m\u001b[0m\u001b[0;34m\u001b[0m\u001b[0m\n",
      "\u001b[0;32m/tmp/ipykernel_219033/2495299041.py\u001b[0m in \u001b[0;36mget_subject_\u001b[0;34m(path1, masker)\u001b[0m\n\u001b[1;32m      1\u001b[0m \u001b[0;32mdef\u001b[0m \u001b[0mget_subject_\u001b[0m\u001b[0;34m(\u001b[0m\u001b[0mpath1\u001b[0m\u001b[0;34m,\u001b[0m\u001b[0mmasker\u001b[0m\u001b[0;34m)\u001b[0m\u001b[0;34m:\u001b[0m  \u001b[0;31m# two record version\u001b[0m\u001b[0;34m\u001b[0m\u001b[0;34m\u001b[0m\u001b[0m\n\u001b[0;32m----> 2\u001b[0;31m         \u001b[0mfile_GM\u001b[0m \u001b[0;34m=\u001b[0m \u001b[0mnib\u001b[0m\u001b[0;34m.\u001b[0m\u001b[0mload\u001b[0m\u001b[0;34m(\u001b[0m\u001b[0mpath1\u001b[0m\u001b[0;34m)\u001b[0m\u001b[0;34m\u001b[0m\u001b[0;34m\u001b[0m\u001b[0m\n\u001b[0m\u001b[1;32m      3\u001b[0m         \u001b[0mfile_data\u001b[0m \u001b[0;34m=\u001b[0m \u001b[0mnib\u001b[0m\u001b[0;34m.\u001b[0m\u001b[0mload\u001b[0m\u001b[0;34m(\u001b[0m\u001b[0mpath1\u001b[0m\u001b[0;34m)\u001b[0m\u001b[0;34m.\u001b[0m\u001b[0mget_fdata\u001b[0m\u001b[0;34m(\u001b[0m\u001b[0;34m)\u001b[0m\u001b[0;34m\u001b[0m\u001b[0;34m\u001b[0m\u001b[0m\n\u001b[1;32m      4\u001b[0m \u001b[0;34m\u001b[0m\u001b[0m\n\u001b[1;32m      5\u001b[0m         \u001b[0mfileo\u001b[0m \u001b[0;34m=\u001b[0m \u001b[0mnib\u001b[0m\u001b[0;34m.\u001b[0m\u001b[0mNifti1Image\u001b[0m\u001b[0;34m(\u001b[0m\u001b[0mfile_data\u001b[0m\u001b[0;34m,\u001b[0m \u001b[0mfile_GM\u001b[0m\u001b[0;34m.\u001b[0m\u001b[0maffine\u001b[0m\u001b[0;34m)\u001b[0m\u001b[0;34m\u001b[0m\u001b[0;34m\u001b[0m\u001b[0m\n",
      "\u001b[0;32m~/.local/lib/python3.7/site-packages/nibabel/loadsave.py\u001b[0m in \u001b[0;36mload\u001b[0;34m(filename, **kwargs)\u001b[0m\n\u001b[1;32m     42\u001b[0m         \u001b[0mstat_result\u001b[0m \u001b[0;34m=\u001b[0m \u001b[0mos\u001b[0m\u001b[0;34m.\u001b[0m\u001b[0mstat\u001b[0m\u001b[0;34m(\u001b[0m\u001b[0mfilename\u001b[0m\u001b[0;34m)\u001b[0m\u001b[0;34m\u001b[0m\u001b[0;34m\u001b[0m\u001b[0m\n\u001b[1;32m     43\u001b[0m     \u001b[0;32mexcept\u001b[0m \u001b[0mOSError\u001b[0m\u001b[0;34m:\u001b[0m\u001b[0;34m\u001b[0m\u001b[0;34m\u001b[0m\u001b[0m\n\u001b[0;32m---> 44\u001b[0;31m         \u001b[0;32mraise\u001b[0m \u001b[0mFileNotFoundError\u001b[0m\u001b[0;34m(\u001b[0m\u001b[0;34mf\"No such file or no access: '{filename}'\"\u001b[0m\u001b[0;34m)\u001b[0m\u001b[0;34m\u001b[0m\u001b[0;34m\u001b[0m\u001b[0m\n\u001b[0m\u001b[1;32m     45\u001b[0m     \u001b[0;32mif\u001b[0m \u001b[0mstat_result\u001b[0m\u001b[0;34m.\u001b[0m\u001b[0mst_size\u001b[0m \u001b[0;34m<=\u001b[0m \u001b[0;36m0\u001b[0m\u001b[0;34m:\u001b[0m\u001b[0;34m\u001b[0m\u001b[0;34m\u001b[0m\u001b[0m\n\u001b[1;32m     46\u001b[0m         \u001b[0;32mraise\u001b[0m \u001b[0mImageFileError\u001b[0m\u001b[0;34m(\u001b[0m\u001b[0;34mf\"Empty file: '{filename}'\"\u001b[0m\u001b[0;34m)\u001b[0m\u001b[0;34m\u001b[0m\u001b[0;34m\u001b[0m\u001b[0m\n",
      "\u001b[0;31mFileNotFoundError\u001b[0m: No such file or no access: '/users/grad/fmoradi/Graphical_LASSO/ADHD_Peking/ADHD_peking.csv/ses-1/func/ADHD_peking.csv_ses-1_task-rest_run-1_bold.denoise/Denoised_ADHD_peking.csv_ses-1_task-rest_run-1_bold_MNI.nii.gz'"
     ]
    }
   ],
   "source": [
    "\n",
    "\n",
    "path = \"/users/grad/fmoradi/Graphical_LASSO/ADHD_Peking\"\n",
    "\n",
    "cnt =0\n",
    "group1 = pd.DataFrame()\n",
    "\n",
    "masker = NiftiLabelsMasker(labels_img=\"AAL_gm.nii\", resampling_target = \"data\",standardize=True)\n",
    "\n",
    "files = os.listdir(path)\n",
    "for file in files:\n",
    "    if file != \".DS_Store\":\n",
    "        print(file)\n",
    "        group1_dir = path+\"/\"+file + \"/\" + \"ses-1/func/\" + file +\"_ses-1_task-rest_run-1_bold.denoise/Denoised_\"+ file +\"_ses-1_task-rest_run-1_bold_MNI.nii.gz\"\n",
    "    #    /users/grad/fmoradi/Graphical_LASSO/ADHD_Peking/sub-1056121/ses-1/func/sub-1056121_ses-1_task-rest_run-1_bold.denoise/Denoised_sub-1056121_ses-1_task-rest_run-1_bold_MNI.nii.gz\n",
    "        \n",
    "        gr1 = get_subject_(group1_dir,masker)[:TR,:ROI]\n",
    "        print(gr1.shape) \n",
    "        group1 = group1.append(pd.DataFrame(gr1),ignore_index=True)\n",
    "  "
   ]
  },
  {
   "cell_type": "code",
   "execution_count": 9,
   "metadata": {},
   "outputs": [
    {
     "ename": "NameError",
     "evalue": "name 'group1' is not defined",
     "output_type": "error",
     "traceback": [
      "\u001b[0;31m---------------------------------------------------------------------------\u001b[0m",
      "\u001b[0;31mNameError\u001b[0m                                 Traceback (most recent call last)",
      "\u001b[0;32m/tmp/ipykernel_221346/1472833364.py\u001b[0m in \u001b[0;36m<module>\u001b[0;34m\u001b[0m\n\u001b[1;32m      1\u001b[0m \u001b[0;31m# group1.shape\u001b[0m\u001b[0;34m\u001b[0m\u001b[0;34m\u001b[0m\u001b[0;34m\u001b[0m\u001b[0m\n\u001b[0;32m----> 2\u001b[0;31m \u001b[0mpd\u001b[0m\u001b[0;34m.\u001b[0m\u001b[0mDataFrame\u001b[0m\u001b[0;34m(\u001b[0m\u001b[0mgroup1\u001b[0m\u001b[0;34m)\u001b[0m\u001b[0;34m.\u001b[0m\u001b[0mto_csv\u001b[0m\u001b[0;34m(\u001b[0m \u001b[0;34m'../../ADHD_Peking/ADHD_peking.csv'\u001b[0m\u001b[0;34m)\u001b[0m\u001b[0;34m\u001b[0m\u001b[0;34m\u001b[0m\u001b[0m\n\u001b[0m\u001b[1;32m      3\u001b[0m \u001b[0;31m# !pwd\u001b[0m\u001b[0;34m\u001b[0m\u001b[0;34m\u001b[0m\u001b[0;34m\u001b[0m\u001b[0m\n",
      "\u001b[0;31mNameError\u001b[0m: name 'group1' is not defined"
     ]
    }
   ],
   "source": [
    "# group1.shape\n",
    "pd.DataFrame(group1).to_csv( '../../ADHD_Peking/ADHD_peking.csv')\n",
    "# !pwd\n"
   ]
  },
  {
   "cell_type": "code",
   "execution_count": 3,
   "metadata": {},
   "outputs": [
    {
     "data": {
      "text/plain": [
       "((6525, 120), (9860, 120))"
      ]
     },
     "execution_count": 3,
     "metadata": {},
     "output_type": "execute_result"
    }
   ],
   "source": [
    "#reading data loading thm into matrix size of N*TR * ROI\n",
    "control_data  = pd.read_csv('../../Ataxia/control_data_twoyear_last.csv',index_col=0).to_numpy()[:NC*TR,:] # limiting number of controls\n",
    "patient_data = pd.read_csv('../../ADHD_Peking/ADHD_peking.csv',index_col=0).to_numpy()\n",
    "patient_data.shape, control_data.shape\n"
   ]
  },
  {
   "cell_type": "code",
   "execution_count": 4,
   "metadata": {},
   "outputs": [
    {
     "name": "stdout",
     "output_type": "stream",
     "text": [
      "Model: Group-level GMN\n",
      "0.888888888888889 0.07027283689263066 0.9111111111111111 0.08314794192830981\n"
     ]
    },
    {
     "data": {
      "text/plain": [
       "(120, 120)"
      ]
     },
     "execution_count": 4,
     "metadata": {},
     "output_type": "execute_result"
    }
   ],
   "source": [
    "importlib.reload(gi_gmn)\n",
    "importlib.reload(gi_gmn.utils)\n",
    "importlib.reload(gi_gmn.models)\n",
    "\n",
    "# group level GMN - performance on test and saving preciison matrix \n",
    "\n",
    "alpha_p = 0.07\n",
    "alpha_c = 0.07\n",
    "\n",
    "model = gim.GroupSubjectGMN(\n",
    "            NC, \n",
    "            NP, \n",
    "            NC_test, \n",
    "            TR,\n",
    "            NP_test, \n",
    "            NRecord, \n",
    "            ROI\n",
    ")\n",
    "precision_p, precision_c = model.group_level(patient_data, control_data, alpha_p, alpha_c, True, TR_P)\n",
    "precision_c.shape\n",
    "\n"
   ]
  },
  {
   "cell_type": "code",
   "execution_count": null,
   "metadata": {},
   "outputs": [],
   "source": [
    "# have to change tr +  in two types and unbalaaced data + feature  eng + mark + "
   ]
  },
  {
   "cell_type": "code",
   "execution_count": 13,
   "metadata": {},
   "outputs": [
    {
     "data": {
      "text/plain": [
       "((75, 4), (89,))"
      ]
     },
     "execution_count": 13,
     "metadata": {},
     "output_type": "execute_result"
    }
   ],
   "source": [
    "thr_weak = 0.1\n",
    "Thresholding_diff = 0.11\n",
    "\n",
    "copy_norm_p, copy_norm_c = model.prune_connections(precision_p, precision_c, thr_weak, Thresholding_diff)\n",
    "\n",
    "giu.degree_sparsity(copy_norm_c), giu.degree_sparsity(copy_norm_p)\n",
    "\n",
    "df_CONN, regions, connU = model.extract_connections_regions(copy_norm_p, copy_norm_c, all_col)\n",
    "df_CONN.shape, regions.shape"
   ]
  },
  {
   "cell_type": "code",
   "execution_count": 14,
   "metadata": {},
   "outputs": [],
   "source": [
    "\n",
    "df_CONN, regions.shape\n",
    "pd.DataFrame(regions).to_csv('../../ADHD_Peking/ROI40.csv',index = False) #496 * 42 \n",
    "df_CONN.to_csv('../../ADHD_Peking/CONN61.csv',index = False) #496 * 42 "
   ]
  },
  {
   "cell_type": "code",
   "execution_count": 15,
   "metadata": {},
   "outputs": [
    {
     "data": {
      "text/plain": [
       "((75, 4), (89,))"
      ]
     },
     "execution_count": 15,
     "metadata": {},
     "output_type": "execute_result"
    }
   ],
   "source": [
    "df_CONN.shape, regions.shape"
   ]
  },
  {
   "cell_type": "code",
   "execution_count": 16,
   "metadata": {},
   "outputs": [
    {
     "name": "stdout",
     "output_type": "stream",
     "text": [
      "(89, 89)\n",
      "(89, 89)\n",
      "(89, 89)\n",
      "(89, 89)\n",
      "(89, 89)\n",
      "(89, 89)\n",
      "(89, 89)\n",
      "(89, 89)\n",
      "(89, 89)\n",
      "(89, 89)\n",
      "(89, 89)\n",
      "(89, 89)\n",
      "(89, 89)\n",
      "(89, 89)\n",
      "(89, 89)\n",
      "(89, 89)\n",
      "(89, 89)\n",
      "(89, 89)\n",
      "(89, 89)\n",
      "(89, 89)\n",
      "(89, 89)\n",
      "(89, 89)\n",
      "(89, 89)\n",
      "(89, 89)\n",
      "(89, 89)\n",
      "(89, 89)\n",
      "(89, 89)\n",
      "(89, 89)\n",
      "(89, 89)\n"
     ]
    },
    {
     "name": "stderr",
     "output_type": "stream",
     "text": [
      "/local/pkg/python/root-python-3.7/lib/python3.7/site-packages/sklearn/covariance/_graph_lasso.py:318: ConvergenceWarning: graphical_lasso: did not converge after 360 iteration: dual gap: -1.464e-03\n",
      "  ConvergenceWarning,\n",
      "/local/pkg/python/root-python-3.7/lib/python3.7/site-packages/sklearn/covariance/_graph_lasso.py:318: ConvergenceWarning: graphical_lasso: did not converge after 360 iteration: dual gap: -2.560e-04\n",
      "  ConvergenceWarning,\n"
     ]
    },
    {
     "name": "stdout",
     "output_type": "stream",
     "text": [
      "3.633128390974187e-05 3.9918753595623024e-05\n"
     ]
    }
   ],
   "source": [
    "# first_model\n",
    "alpha_p = 0.3\n",
    "alpha_c = 0.3\n",
    "\n",
    "all_pre_p, all_pre_c = model.individual_level(patient_data, control_data, alpha_p, alpha_c, regions, True, TR_P)\n",
    "\n",
    "print(giu.degree_sparsity(all_pre_c[0,:]),giu.degree_sparsity(all_pre_p[0,:]))"
   ]
  },
  {
   "cell_type": "code",
   "execution_count": 17,
   "metadata": {},
   "outputs": [],
   "source": [
    "#convert roiU andn connU to the new all_col array\n",
    "masked_conn_patient, masked_conn_control = model.mask_CONN( all_pre_p, all_pre_c, all_col, regions, connU)\n",
    "\n",
    "pd.DataFrame(masked_conn_control).to_csv('../../ADHD_Peking/Individual_precision_control.csv',index = False) #496*36 \n",
    "pd.DataFrame(masked_conn_patient).to_csv('../../ADHD_Peking/Individual_precision_patient.csv',index = False) #496 * 42 "
   ]
  },
  {
   "cell_type": "code",
   "execution_count": 18,
   "metadata": {},
   "outputs": [
    {
     "data": {
      "text/plain": [
       "(1306, (29, 75))"
      ]
     },
     "execution_count": 18,
     "metadata": {},
     "output_type": "execute_result"
    }
   ],
   "source": [
    "# np.count_nonzero(masked_conn_patient[7,:]),masked_conn_patient[1].shape np.CLIPnp\n",
    "np.count_nonzero(masked_conn_patient), masked_conn_patient.shape"
   ]
  },
  {
   "cell_type": "code",
   "execution_count": 19,
   "metadata": {},
   "outputs": [
    {
     "name": "stdout",
     "output_type": "stream",
     "text": [
      "svmrbf\n",
      "20 20 29 29\n",
      "0.8722222222222221 0.9666666666666666 0.9649999999999999 0.9974999999999999 0.9194444444444443\n",
      "0.10107447443700139 0.06186404847588914 0.03570714214271427 0.010897247358851692 0.04803226796052939\n",
      "lr\n",
      "20 20 29 29\n",
      "0.8222222222222223 0.9888888888888889 0.9875 1.0 0.9055555555555556\n",
      "0.08164965809277258 0.033333333333333354 0.021650635094610987 0.0 0.04339027597725918\n",
      "svmlinear\n",
      "20 20 29 29\n",
      "0.95 0.9777777777777779 1.0 1.0 0.9638888888888888\n",
      "0.07432826755699808 0.04444444444444446 0.0 0.0 0.04400827643820796\n",
      "knn\n",
      "20 20 29 29\n",
      "0.7722222222222221 0.9 0.8625 0.9800000000000001 0.8361111111111112\n",
      "0.113719386058104 0.07777777777777778 0.0649519052838329 0.0244948974278318 0.05407756203869938\n",
      "rf\n",
      "20 20 29 29\n",
      "0.8666666666666666 0.85 1.0 1.0 0.8583333333333332\n",
      "0.12472191289246472 0.11262852740396273 0.0 0.0 0.06448992647913275\n"
     ]
    }
   ],
   "source": [
    "masked_conn_control = pd.read_csv('../../ADHD_Peking/Individual_precision_control.csv').to_numpy()\n",
    "masked_conn_patient = pd.read_csv('../../ADHD_Peking/Individual_precision_patient.csv').to_numpy()\n",
    "\n",
    "model.binary_classfier(masked_conn_patient, masked_conn_control, \"test\", 1)"
   ]
  },
  {
   "attachments": {},
   "cell_type": "markdown",
   "metadata": {},
   "source": [
    "# Feature Engineering"
   ]
  },
  {
   "cell_type": "code",
   "execution_count": 18,
   "metadata": {},
   "outputs": [
    {
     "data": {
      "text/plain": [
       "(42, 4)"
      ]
     },
     "execution_count": 18,
     "metadata": {},
     "output_type": "execute_result"
    }
   ],
   "source": [
    "\n",
    "conn = pd.read_csv('../../ADHD_Peking/CONN.csv').to_numpy()\n",
    "regions = pd.read_csv('../../ADHD_Peking/ROI.csv').to_numpy()\n",
    "conn.shape"
   ]
  },
  {
   "cell_type": "code",
   "execution_count": 20,
   "metadata": {},
   "outputs": [
    {
     "name": "stdout",
     "output_type": "stream",
     "text": [
      "['Frontal_Inf_Oper_L' 'Parietal_Inf_L']\n",
      "['Olfactory_R' 'Rectus_R']\n",
      "['Occipital_Mid_R' 'Temporal_Inf_L']\n",
      "['OFCpost_R' 'OFClat_R']\n",
      "['Frontal_Mid_2_R' 'Angular_R']\n",
      "['Cerebelum_10_L' 'Cerebelum_10_R']\n",
      "['Angular_R' 'Precuneus_R']\n",
      "['Frontal_Sup_2_L' 'Supp_Motor_Area_L']\n"
     ]
    }
   ],
   "source": [
    "from scipy import stats\n",
    "\n",
    "#statistical test on selected 50 connections \n",
    "pen = conn.shape[0]\n",
    "\n",
    "#statistical test \n",
    "thresold = 0.05 / pen \n",
    "\n",
    "for i in range(pen):\n",
    "    # t, p = stats.stats.mannwhitneyu(avr_p[/i],avr_c[i])#deg_c[i,:],deg_p[i,:])\n",
    "    t, p = stats.ttest_ind(masked_conn_control[:,i],masked_conn_patient[:,i])\n",
    "    if p < thresold:\n",
    "        print(conn[i][0:2])\n",
    "        # print(masked_conn_control[:,i],masked_conn_patient[:,i])\n",
    "\n",
    " "
   ]
  }
 ],
 "metadata": {
  "kernelspec": {
   "display_name": "Python 3",
   "language": "python",
   "name": "python3"
  },
  "language_info": {
   "codemirror_mode": {
    "name": "ipython",
    "version": 3
   },
   "file_extension": ".py",
   "mimetype": "text/x-python",
   "name": "python",
   "nbconvert_exporter": "python",
   "pygments_lexer": "ipython3",
   "version": "3.7.6"
  },
  "orig_nbformat": 4,
  "vscode": {
   "interpreter": {
    "hash": "916dbcbb3f70747c44a77c7bcd40155683ae19c65e1c03b4aa3499c5328201f1"
   }
  }
 },
 "nbformat": 4,
 "nbformat_minor": 2
}
