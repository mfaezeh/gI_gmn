{
 "cells": [
  {
   "cell_type": "code",
   "execution_count": 1,
   "metadata": {},
   "outputs": [],
   "source": [
    "# %matplotlib inline\n",
    "import numpy as np\n",
    "import nibabel as nib\n",
    "import matplotlib.pyplot as plt\n",
    "import pandas as pd\n",
    "from pandas_profiling import ProfileReport\n",
    "from scipy.stats import pearsonr\n",
    "from scipy import stats\n",
    "from statsmodels.stats.anova import AnovaRM\n",
    "from sklearn.covariance import GraphicalLasso, graphical_lasso,EmpiricalCovariance\n",
    "from sklearn.decomposition import PCA, FastICA\n",
    "from nilearn.maskers import NiftiMasker\n",
    "from nilearn.maskers import NiftiLabelsMasker\n",
    "from nilearn.maskers import NiftiMapsMasker\n",
    "from sklearn.decomposition import PCA\n",
    "from sklearn.cluster import KMeans\n",
    "from nilearn.plotting import plot_stat_map, show, plot_epi, plot_prob_atlas, find_xyz_cut_coords, plot_roi\n",
    "from nilearn import image\n",
    "from nilearn.plotting import plot_stat_map, show\n",
    "from nilearn import plotting\n",
    "import seaborn as sns\n",
    "import os\n",
    "\n",
    "import importlib\n",
    "import gi_gmn\n",
    "import gi_gmn.utils as giu\n",
    "import gi_gmn.models as gim"
   ]
  },
  {
   "cell_type": "markdown",
   "metadata": {},
   "source": []
  },
  {
   "cell_type": "code",
   "execution_count": 2,
   "metadata": {},
   "outputs": [],
   "source": [
    "NP_train = 30\n",
    "NC_train = 25\n",
    "NP = 42\n",
    "NC = 36\n",
    "NPRE = 16\n",
    "NP_test = NP - NP_train\n",
    "NC_test = NC - NC_train\n",
    "TR = 170\n",
    "NRecord = 2\n",
    "ROI = 120\n",
    "\n",
    "#based on AAL atlas\n",
    "all_col = ['Precentral_L', 'Precentral_R', 'Frontal_Sup_2_L', 'Frontal_Sup_2_R', 'Frontal_Mid_2_L', 'Frontal_Mid_2_R', 'Frontal_Inf_Oper_L', 'Frontal_Inf_Oper_R', 'Frontal_Inf_Tri_L', 'Frontal_Inf_Tri_R', 'Frontal_Inf_Orb_2_L', 'Frontal_Inf_Orb_2_R', 'Rolandic_Oper_L', 'Rolandic_Oper_R', 'Supp_Motor_Area_L', 'Supp_Motor_Area_R', 'Olfactory_L', 'Olfactory_R', 'Frontal_Sup_Medial_L', 'Frontal_Sup_Medial_R', 'Frontal_Med_Orb_L', 'Frontal_Med_Orb_R', 'Rectus_L', 'Rectus_R', 'OFCmed_L', 'OFCmed_R', 'OFCant_L', 'OFCant_R', 'OFCpost_L', 'OFCpost_R', 'OFClat_L', 'OFClat_R', 'Insula_L', 'Insula_R', 'Cingulate_Ant_L', 'Cingulate_Ant_R', 'Cingulate_Mid_L', 'Cingulate_Mid_R', 'Cingulate_Post_L', 'Cingulate_Post_R', 'Hippocampus_L', 'Hippocampus_R', 'ParaHippocampal_L', 'ParaHippocampal_R', 'Amygdala_L', 'Amygdala_R', 'Calcarine_L', 'Calcarine_R', 'Cuneus_L', 'Cuneus_R', 'Lingual_L', 'Lingual_R', 'Occipital_Sup_L', 'Occipital_Sup_R', 'Occipital_Mid_L', 'Occipital_Mid_R', 'Occipital_Inf_L', 'Occipital_Inf_R', 'Fusiform_L', 'Fusiform_R', 'Postcentral_L', 'Postcentral_R', 'Parietal_Sup_L', 'Parietal_Sup_R', 'Parietal_Inf_L', 'Parietal_Inf_R', 'SupraMarginal_L', 'SupraMarginal_R', 'Angular_L', 'Angular_R', 'Precuneus_L', 'Precuneus_R', 'Paracentral_Lobule_L', 'Paracentral_Lobule_R', 'Caudate_L', 'Caudate_R', 'Putamen_L', 'Putamen_R', 'Pallidum_L', 'Pallidum_R', 'Thalamus_L', 'Thalamus_R', 'Heschl_L', 'Heschl_R', 'Temporal_Sup_L', 'Temporal_Sup_R', 'Temporal_Pole_Sup_L', 'Temporal_Pole_Sup_R', 'Temporal_Mid_L', 'Temporal_Mid_R', 'Temporal_Pole_Mid_L', 'Temporal_Pole_Mid_R', 'Temporal_Inf_L', 'Temporal_Inf_R', 'Cerebelum_Crus1_L', 'Cerebelum_Crus1_R', 'Cerebelum_Crus2_L', 'Cerebelum_Crus2_R', 'Cerebelum_3_L', 'Cerebelum_3_R', 'Cerebelum_4_5_L', 'Cerebelum_4_5_R', 'Cerebelum_6_L', 'Cerebelum_6_R', 'Cerebelum_7b_L', 'Cerebelum_7b_R', 'Cerebelum_8_L', 'Cerebelum_8_R', 'Cerebelum_9_L', 'Cerebelum_9_R', 'Cerebelum_10_L', 'Cerebelum_10_R', 'Vermis_1_2', 'Vermis_3', 'Vermis_4_5', 'Vermis_6', 'Vermis_7', 'Vermis_8', 'Vermis_9', 'Vermis_10']\n"
   ]
  },
  {
   "cell_type": "code",
   "execution_count": 175,
   "metadata": {},
   "outputs": [
    {
     "data": {
      "text/plain": [
       "((14280, 120), (12240, 120))"
      ]
     },
     "execution_count": 175,
     "metadata": {},
     "output_type": "execute_result"
    }
   ],
   "source": [
    "#reading data loading thm into matrix size of N*TR * ROI\n",
    "control_data  = pd.read_csv('../../Ataxia/control_data_twoyear_last.csv',index_col=0).to_numpy()\n",
    "patient_data = pd.read_csv('../../Ataxia/patient_data_twoyear_last.csv',index_col=0).to_numpy()\n",
    "patient_data.shape, control_data.shape\n"
   ]
  },
  {
   "attachments": {},
   "cell_type": "markdown",
   "metadata": {},
   "source": [
    "step one: group - level model "
   ]
  },
  {
   "cell_type": "code",
   "execution_count": 8,
   "metadata": {},
   "outputs": [
    {
     "name": "stdout",
     "output_type": "stream",
     "text": [
      "Model: Group-level GMN\n"
     ]
    },
    {
     "name": "stderr",
     "output_type": "stream",
     "text": [
      "/local/pkg/python/root-python-3.7/lib/python3.7/site-packages/sklearn/covariance/_graph_lasso.py:318: ConvergenceWarning: graphical_lasso: did not converge after 360 iteration: dual gap: 9.121e-04\n",
      "  ConvergenceWarning,\n"
     ]
    },
    {
     "name": "stdout",
     "output_type": "stream",
     "text": [
      "0.7166666666666666 0.17159383568311665 0.9636363636363636 0.07272727272727271\n"
     ]
    },
    {
     "data": {
      "text/plain": [
       "(120, 120)"
      ]
     },
     "execution_count": 8,
     "metadata": {},
     "output_type": "execute_result"
    }
   ],
   "source": [
    "importlib.reload(gi_gmn)\n",
    "importlib.reload(gi_gmn.utils)\n",
    "importlib.reload(gi_gmn.models)\n",
    "\n",
    "# group level GMN - performance on test and saving preciison matrix \n",
    "\n",
    "alpha_p = 0.07\n",
    "alpha_c = 0.07\n",
    "\n",
    "model = gim.GroupSubjectGMN(\n",
    "            NC, \n",
    "            NP, \n",
    "            NC_test, \n",
    "            TR,\n",
    "            NP_test, \n",
    "            NRecord, \n",
    "            ROI\n",
    ")\n",
    "precision_p, precision_c = model.group_level(patient_data, control_data, alpha_p, alpha_c,False, 170)\n",
    "precision_c.shape\n",
    "\n"
   ]
  },
  {
   "attachments": {},
   "cell_type": "markdown",
   "metadata": {},
   "source": [
    "step two: pruning connection - extract ROI and CONN"
   ]
  },
  {
   "cell_type": "code",
   "execution_count": 115,
   "metadata": {},
   "outputs": [
    {
     "data": {
      "text/plain": [
       "((60, 4), (70,))"
      ]
     },
     "execution_count": 115,
     "metadata": {},
     "output_type": "execute_result"
    }
   ],
   "source": [
    "thr_weak = 0.1\n",
    "Thresholding_diff = 0.1\n",
    "\n",
    "copy_norm_p, copy_norm_c = model.prune_connections(precision_p, precision_c, thr_weak, Thresholding_diff)\n",
    "\n",
    "giu.degree_sparsity(copy_norm_c), giu.degree_sparsity(copy_norm_p)\n",
    "\n",
    "df_CONN, regions, connU = model.extract_connections_regions(copy_norm_p, copy_norm_c, all_col)\n",
    "df_CONN.shape, regions.shape"
   ]
  },
  {
   "cell_type": "code",
   "execution_count": 116,
   "metadata": {},
   "outputs": [],
   "source": [
    "\n",
    "# df_CONN, regions/.shape\n",
    "pd.DataFrame(regions).to_csv('../../Ataxia/ROI70.csv',index = False) #496 * 42 \n",
    "df_CONN.to_csv('../../Ataxia/CONN60.csv',index = False) #496 * 42 "
   ]
  },
  {
   "cell_type": "code",
   "execution_count": 4,
   "metadata": {},
   "outputs": [
    {
     "data": {
      "text/plain": [
       "((70, 1), (60, 4))"
      ]
     },
     "execution_count": 4,
     "metadata": {},
     "output_type": "execute_result"
    }
   ],
   "source": [
    "\n",
    "conn = pd.read_csv('../../Ataxia/CONN60.csv').to_numpy()\n",
    "regions = pd.read_csv('../../Ataxia/ROI70.csv').to_numpy()#.reshape((regions.shape[0]))\n",
    "regions.shape, conn.shape"
   ]
  },
  {
   "attachments": {},
   "cell_type": "markdown",
   "metadata": {},
   "source": [
    "step 3: Individual level GMN training based on new subset of Regions"
   ]
  },
  {
   "cell_type": "code",
   "execution_count": 193,
   "metadata": {},
   "outputs": [
    {
     "name": "stderr",
     "output_type": "stream",
     "text": [
      "/local/pkg/python/root-python-3.7/lib/python3.7/site-packages/sklearn/covariance/_graph_lasso.py:318: ConvergenceWarning: graphical_lasso: did not converge after 360 iteration: dual gap: 9.232e-03\n",
      "  ConvergenceWarning,\n"
     ]
    },
    {
     "name": "stdout",
     "output_type": "stream",
     "text": [
      "(70, 70)\n"
     ]
    },
    {
     "name": "stderr",
     "output_type": "stream",
     "text": [
      "/local/pkg/python/root-python-3.7/lib/python3.7/site-packages/sklearn/covariance/_graph_lasso.py:318: ConvergenceWarning: graphical_lasso: did not converge after 360 iteration: dual gap: -1.801e-03\n",
      "  ConvergenceWarning,\n"
     ]
    },
    {
     "name": "stdout",
     "output_type": "stream",
     "text": [
      "(70, 70)\n",
      "(70, 70)\n",
      "(70, 70)\n",
      "(70, 70)\n",
      "(70, 70)\n",
      "(70, 70)\n",
      "(70, 70)\n",
      "(70, 70)\n",
      "(70, 70)\n",
      "(70, 70)\n",
      "(70, 70)\n",
      "(70, 70)\n",
      "(70, 70)\n",
      "(70, 70)\n"
     ]
    },
    {
     "name": "stderr",
     "output_type": "stream",
     "text": [
      "/local/pkg/python/root-python-3.7/lib/python3.7/site-packages/sklearn/covariance/_graph_lasso.py:318: ConvergenceWarning: graphical_lasso: did not converge after 360 iteration: dual gap: -2.319e-03\n",
      "  ConvergenceWarning,\n"
     ]
    },
    {
     "name": "stdout",
     "output_type": "stream",
     "text": [
      "(70, 70)\n"
     ]
    },
    {
     "name": "stderr",
     "output_type": "stream",
     "text": [
      "/local/pkg/python/root-python-3.7/lib/python3.7/site-packages/sklearn/covariance/_graph_lasso.py:318: ConvergenceWarning: graphical_lasso: did not converge after 360 iteration: dual gap: -1.827e-03\n",
      "  ConvergenceWarning,\n"
     ]
    },
    {
     "name": "stdout",
     "output_type": "stream",
     "text": [
      "(70, 70)\n",
      "(70, 70)\n",
      "(70, 70)\n",
      "(70, 70)\n",
      "(70, 70)\n",
      "(70, 70)\n"
     ]
    },
    {
     "name": "stderr",
     "output_type": "stream",
     "text": [
      "/local/pkg/python/root-python-3.7/lib/python3.7/site-packages/sklearn/covariance/_graph_lasso.py:318: ConvergenceWarning: graphical_lasso: did not converge after 360 iteration: dual gap: -6.886e-04\n",
      "  ConvergenceWarning,\n"
     ]
    },
    {
     "name": "stdout",
     "output_type": "stream",
     "text": [
      "(70, 70)\n"
     ]
    },
    {
     "name": "stderr",
     "output_type": "stream",
     "text": [
      "/local/pkg/python/root-python-3.7/lib/python3.7/site-packages/sklearn/covariance/_graph_lasso.py:318: ConvergenceWarning: graphical_lasso: did not converge after 360 iteration: dual gap: -1.041e-03\n",
      "  ConvergenceWarning,\n"
     ]
    },
    {
     "name": "stdout",
     "output_type": "stream",
     "text": [
      "(70, 70)\n",
      "(70, 70)\n"
     ]
    },
    {
     "name": "stderr",
     "output_type": "stream",
     "text": [
      "/local/pkg/python/root-python-3.7/lib/python3.7/site-packages/sklearn/covariance/_graph_lasso.py:318: ConvergenceWarning: graphical_lasso: did not converge after 360 iteration: dual gap: -1.090e-03\n",
      "  ConvergenceWarning,\n"
     ]
    },
    {
     "name": "stdout",
     "output_type": "stream",
     "text": [
      "(70, 70)\n",
      "(70, 70)\n",
      "(70, 70)\n"
     ]
    },
    {
     "name": "stderr",
     "output_type": "stream",
     "text": [
      "/local/pkg/python/root-python-3.7/lib/python3.7/site-packages/sklearn/covariance/_graph_lasso.py:318: ConvergenceWarning: graphical_lasso: did not converge after 360 iteration: dual gap: 2.044e-03\n",
      "  ConvergenceWarning,\n"
     ]
    },
    {
     "name": "stdout",
     "output_type": "stream",
     "text": [
      "(70, 70)\n",
      "(70, 70)\n"
     ]
    },
    {
     "name": "stderr",
     "output_type": "stream",
     "text": [
      "/local/pkg/python/root-python-3.7/lib/python3.7/site-packages/sklearn/covariance/_graph_lasso.py:318: ConvergenceWarning: graphical_lasso: did not converge after 360 iteration: dual gap: -5.678e-03\n",
      "  ConvergenceWarning,\n"
     ]
    },
    {
     "name": "stdout",
     "output_type": "stream",
     "text": [
      "(70, 70)\n"
     ]
    },
    {
     "name": "stderr",
     "output_type": "stream",
     "text": [
      "/local/pkg/python/root-python-3.7/lib/python3.7/site-packages/sklearn/covariance/_graph_lasso.py:318: ConvergenceWarning: graphical_lasso: did not converge after 360 iteration: dual gap: -4.141e-03\n",
      "  ConvergenceWarning,\n"
     ]
    },
    {
     "name": "stdout",
     "output_type": "stream",
     "text": [
      "(70, 70)\n",
      "(70, 70)\n"
     ]
    },
    {
     "name": "stderr",
     "output_type": "stream",
     "text": [
      "/local/pkg/python/root-python-3.7/lib/python3.7/site-packages/sklearn/covariance/_graph_lasso.py:318: ConvergenceWarning: graphical_lasso: did not converge after 360 iteration: dual gap: 4.676e-03\n",
      "  ConvergenceWarning,\n"
     ]
    },
    {
     "name": "stdout",
     "output_type": "stream",
     "text": [
      "(70, 70)\n",
      "(70, 70)\n"
     ]
    },
    {
     "name": "stderr",
     "output_type": "stream",
     "text": [
      "/local/pkg/python/root-python-3.7/lib/python3.7/site-packages/sklearn/covariance/_graph_lasso.py:318: ConvergenceWarning: graphical_lasso: did not converge after 360 iteration: dual gap: -1.597e-03\n",
      "  ConvergenceWarning,\n"
     ]
    },
    {
     "name": "stdout",
     "output_type": "stream",
     "text": [
      "(70, 70)\n",
      "0.00011544115502906613 6.72406133304516e-05\n"
     ]
    }
   ],
   "source": [
    "# first_model\n",
    "alpha_p = 0.3\n",
    "alpha_c = 0.1\n",
    "\n",
    "all_pre_p, all_pre_c = model.individual_level(patient_data, control_data, alpha_p, alpha_c, regions, False, 170)\n",
    "\n",
    "print(giu.degree_sparsity(all_pre_c[0,:]),giu.degree_sparsity(all_pre_p[0,:]))"
   ]
  },
  {
   "attachments": {},
   "cell_type": "markdown",
   "metadata": {},
   "source": [
    "mask CONN on each subject connectivty "
   ]
  },
  {
   "cell_type": "code",
   "execution_count": 194,
   "metadata": {},
   "outputs": [],
   "source": [
    "#convert roiU andn connU to the new all_col array\n",
    "masked_conn_patient, masked_conn_control = model.mask_CONN( all_pre_p, all_pre_c, all_col, regions, connU)\n",
    "\n",
    "pd.DataFrame(masked_conn_control).to_csv('../../Ataxia/Individual_precision_control.csv',index = False) #496*36 \n",
    "pd.DataFrame(masked_conn_patient).to_csv('../../Ataxia/Individual_precision_patient.csv',index = False) #496 * 42 "
   ]
  },
  {
   "cell_type": "code",
   "execution_count": 129,
   "metadata": {},
   "outputs": [
    {
     "data": {
      "text/plain": [
       "(42, 60)"
      ]
     },
     "execution_count": 129,
     "metadata": {},
     "output_type": "execute_result"
    }
   ],
   "source": [
    "masked_conn_patient.shape"
   ]
  },
  {
   "cell_type": "code",
   "execution_count": 192,
   "metadata": {},
   "outputs": [
    {
     "data": {
      "text/plain": [
       "(23.285714285714285, 43.25)"
      ]
     },
     "execution_count": 192,
     "metadata": {},
     "output_type": "execute_result"
    }
   ],
   "source": [
    "# np.count_nonzero(masked_conn_patient[7,:]),masked_conn_patient[1].shape np.CLIPnp\n",
    "np.count_nonzero(masked_conn_patient), masked_conn_patient.shape, np.count_nonzero(masked_conn_patient[0,:])\n",
    "c,cp = 0,0\n",
    "for i in range(NC):\n",
    "    c = c+np.count_nonzero(masked_conn_control[i,:])\n",
    "    # print(np.count_nonzero(masked_conn_control[i,:]))\n",
    "c/NC\n",
    "\n",
    "for i in range(NP):\n",
    "    cp = cp+np.count_nonzero(masked_conn_patient[i,:])\n",
    "    # print(np.count_nonzero(masked_conn_control[i,:]))\n",
    "cp/NP, c/NC"
   ]
  },
  {
   "attachments": {},
   "cell_type": "markdown",
   "metadata": {},
   "source": [
    "Binary Classfier"
   ]
  },
  {
   "cell_type": "code",
   "execution_count": 200,
   "metadata": {},
   "outputs": [
    {
     "name": "stdout",
     "output_type": "stream",
     "text": [
      "svmrbf\n",
      "30 25 42 36\n",
      "1.0 0.0 1.0 0.0 0.5217391304347827\n",
      "0.0 0.0 0.0 0.0 1.1102230246251565e-16\n",
      "lr\n",
      "30 25 42 36\n",
      "0.9333333333333333 0.9545454545454547 1.0 1.0 0.9434782608695652\n",
      "0.06236095644623235 0.07329325225725954 0.0 0.0 0.0436951113961778\n",
      "svmlinear\n",
      "30 25 42 36\n",
      "0.9166666666666667 0.9090909090909092 0.9983333333333334 0.982 0.9130434782608695\n",
      "0.07453559924999298 0.09534625892455922 0.0072648315725677886 0.019899748742132416 0.05499613322031965\n",
      "knn\n",
      "30 25 42 36\n",
      "0.9666666666666666 0.5863636363636365 0.9866666666666666 0.724 0.7847826086956521\n",
      "0.055277079839256664 0.20824929434464198 0.019436506316150997 0.0798999374217527 0.09768105190722161\n",
      "rf\n",
      "30 25 42 36\n",
      "0.9291666666666668 0.7772727272727272 1.0 1.0 0.8565217391304347\n",
      "0.0660124146573119 0.11668634229994033 0.0 0.0 0.05685520361140009\n"
     ]
    }
   ],
   "source": [
    "masked_conn_control = pd.read_csv('../../Ataxia/Individual_precision_control.csv').to_numpy()\n",
    "masked_conn_patient = pd.read_csv('../../Ataxia/Individual_precision_patient.csv').to_numpy()\n",
    "\n",
    "model.binary_classfier(masked_conn_patient, masked_conn_control, \"test\", 16)"
   ]
  },
  {
   "cell_type": "code",
   "execution_count": 19,
   "metadata": {},
   "outputs": [],
   "source": [
    "# import gi_gmn.visualization as vis\n",
    "import pandas as pd\n",
    "masked_conn_control = pd.read_csv('../../Ataxia/Individual_precision_control.csv').to_numpy()\n",
    "masked_conn_patient = pd.read_csv('../../Ataxia/Individual_precision_patient.csv').to_numpy()"
   ]
  },
  {
   "attachments": {},
   "cell_type": "markdown",
   "metadata": {},
   "source": [
    "# Feature engineering\n"
   ]
  },
  {
   "cell_type": "code",
   "execution_count": 168,
   "metadata": {},
   "outputs": [],
   "source": [
    "\n",
    "conn = pd.read_csv('../../Ataxia/CONN60.csv').to_numpy()\n",
    "regions = pd.read_csv('../../Ataxia/ROI70.csv').to_numpy()"
   ]
  },
  {
   "cell_type": "code",
   "execution_count": 169,
   "metadata": {},
   "outputs": [
    {
     "data": {
      "text/plain": [
       "((70, 1), (60, 4), (42, 60), (36, 60))"
      ]
     },
     "execution_count": 169,
     "metadata": {},
     "output_type": "execute_result"
    }
   ],
   "source": [
    "regions.shape, conn.shape, masked_conn_patient.shape, masked_conn_control.shape\n"
   ]
  },
  {
   "attachments": {},
   "cell_type": "markdown",
   "metadata": {},
   "source": [
    "t-sne "
   ]
  },
  {
   "attachments": {},
   "cell_type": "markdown",
   "metadata": {},
   "source": [
    "# Statistical t-test on Individual level "
   ]
  },
  {
   "cell_type": "code",
   "execution_count": 201,
   "metadata": {},
   "outputs": [
    {
     "name": "stdout",
     "output_type": "stream",
     "text": [
      "3.5484281676812084   0.0006682851879054226 ['Frontal_Mid_2_L' 'OFCant_L' 0.0 0.1455636990038824]\n",
      "3.4943683903267244   0.0007961392722176283 ['Frontal_Sup_2_R' 'Supp_Motor_Area_R' 0.1350983045243634 0.0]\n",
      "3.5260401882443677   0.0007186749316224334 ['Frontal_Inf_Orb_2_L' 'Frontal_Sup_Medial_L' 0.0 0.1310023347945055]\n",
      "3.893189728385591   0.00021091140864253982 ['Frontal_Inf_Oper_L' 'Parietal_Inf_L' 0.1105064112492578 0.0]\n",
      "5.64313635217884   2.7357843720290403e-07 ['Cingulate_Ant_L' 'Cingulate_Mid_L' 0.107280344815346 0.0]\n",
      "4.69321102516936   1.1660865922007223e-05 ['Postcentral_L' 'Postcentral_R' 0.3316559340099019 0.4363637629215461]\n",
      "5.006170226263173   3.4993442139760097e-06 ['Heschl_L' 'Heschl_R' 0.2568415759698546 0.3592815187681813]\n"
     ]
    }
   ],
   "source": [
    "from scipy import stats\n",
    "\n",
    "#statistical test on selected 50 connections \n",
    "pen = conn.shape[0]\n",
    "sel_i = []\n",
    "\n",
    "#statistical test \n",
    "thresold = 0.05 / pen \n",
    "\n",
    "for i in range(pen):\n",
    "    # t, p = stats.stats.mannwhitneyu(avr_p[/i],avr_c[i])#deg_c[i,:],deg_p[i,:])\n",
    "    t, p = stats.ttest_ind(masked_conn_control[:,i],masked_conn_patient[:,i])\n",
    "    if p < thresold:\n",
    "        print(t, \" \",p,conn[i])\n",
    "        sel_i = np.append(sel_i, i)\n",
    "        # if i ==39:\n",
    "            # print(masked_conn_control[:,i],masked_conn_patient[:,i])\n",
    "        # print(masked_conn_control[:,i],masked_conn_patient[:,i])\n",
    "\n",
    " "
   ]
  },
  {
   "cell_type": "code",
   "execution_count": null,
   "metadata": {},
   "outputs": [],
   "source": [
    "#box plot\n",
    "\n",
    "# load data to dataframe\n",
    "\n",
    "df = pd.DataFrame()\n",
    "\n",
    "for i,ind in enumerate(sel_i):\n",
    "    # print(i,ind)\n",
    "    df[ind] = np.concatenate((masked_conn_control[:,int(ind)], masked_conn_patient[:,int(ind)]) )\n",
    " \n",
    "\n",
    "df[\"group\"] = np.concatenate((np.zeros(NC),np.ones(NP)))\n",
    "df\n",
    "# df.groupby(\"group\").count()\n",
    "# df.astype(bool).sum(axis=0)"
   ]
  },
  {
   "cell_type": "code",
   "execution_count": 173,
   "metadata": {},
   "outputs": [
    {
     "name": "stdout",
     "output_type": "stream",
     "text": [
      "Original DataFrame:\n",
      "\n",
      "Melted DataFrame:\n",
      "     group Variable     Value\n",
      "0      0.0      0.0  0.147571\n",
      "1      0.0      0.0  0.156540\n",
      "2      0.0      0.0  0.126531\n",
      "3      0.0      0.0  0.172945\n",
      "4      0.0      0.0  0.213538\n",
      "..     ...      ...       ...\n",
      "307    1.0     47.0  0.314067\n",
      "308    1.0     47.0  0.254035\n",
      "309    1.0     47.0  0.280455\n",
      "310    1.0     47.0  0.139803\n",
      "311    1.0     47.0  0.310464\n",
      "\n",
      "[312 rows x 3 columns]\n"
     ]
    },
    {
     "data": {
      "image/png": "[encoded data removed]",
      "text/plain": [
       "<Figure size 1800x360 with 1 Axes>"
      ]
     },
     "metadata": {},
     "output_type": "display_data"
    }
   ],
   "source": [
    "import pandas as pd\n",
    "import seaborn as sns\n",
    "import matplotlib.pyplot as plt\n",
    "\n",
    "%matplotlib inline\n",
    "\n",
    "# Create a sample DataFrame\n",
    "# data = {\n",
    "#     'Category': ['A', 'B', 'C', 'A', 'B', 'C'],\n",
    "#     'Value1': [10, 15, 20, 25, 30, 35],\n",
    "#     'Value2': [5, 10, 15, 20, 25, 30],\n",
    "#     'Value3': [8, 12, 16, 24, 28, 32],\n",
    "# }\n",
    "\n",
    "# df = pd.DataFrame(data)\n",
    "\n",
    "# Print the original DataFrame\n",
    "print(\"Original DataFrame:\")\n",
    "# print(df)\n",
    "\n",
    "# Melt the DataFrame\n",
    "df_melted = pd.melt(df, id_vars=['group'], var_name='Variable', value_name='Value')\n",
    "\n",
    "# Print the melted DataFrame\n",
    "print(\"\\nMelted DataFrame:\")\n",
    "print(df_melted)\n",
    "\n",
    "# Set the style of seaborn\n",
    "sns.set(style=\"whitegrid\")\n",
    "\n",
    "# Create a box plot using the melted DataFrame\n",
    "# plt.figure(figsize=(10, 6))\n",
    "fig, ax = plt.subplots(figsize=(25, 5))\n",
    "# custom_palette = sns.color_palette(\"husl\", n_colors=len(df_melted['Variable'].unique()))\n",
    "sns.boxplot(x='Variable', y='Value', hue='group', data=df_melted, palette='Set3' , width = 1, saturation = 4, ax = ax, orient='v')\n",
    "\n",
    "# Add labels and title\n",
    "plt.xlabel(\"Variables\")\n",
    "plt.ylabel(\"Values\")\n",
    "plt.title(\"Box Plots for Each Variable Grouped by Category\")\n",
    "\n",
    "plt.show()\n"
   ]
  },
  {
   "cell_type": "code",
   "execution_count": 66,
   "metadata": {},
   "outputs": [
    {
     "data": {
      "image/png": "[encoded data removed]",
      "text/plain": [
       "<Figure size 432x288 with 4 Axes>"
      ]
     },
     "metadata": {
      "needs_background": "light"
     },
     "output_type": "display_data"
    }
   ],
   "source": [
    "%matplotlib inline\n",
    "boxplot = df.boxplot(column= [ 1.0,     4.0,     9.0,    12.0], by = 'group') \n",
    "# sns.boxplot(x = 'label', y = df.columns,data = df)"
   ]
  },
  {
   "attachments": {},
   "cell_type": "markdown",
   "metadata": {},
   "source": [
    "3.4742121703729003   0.0008494840851018704 1 Precentral_L Postcentral_L\n",
    "-4.546761095041535   2.022276814031102e-05 2 Precentral_L Cerebelum_6_R\n",
    "4.140496714880223   8.887131271487468e-05 9 Supp_Motor_Area_R Paracentral_Lobule_R\n",
    "-4.775961923735585   8.51187647626001e-06 14 Frontal_Sup_Medial_L Cerebelum_Crus2_R\n",
    "-3.484323572214014   0.0008223145095373218 20 Hippocampus_R ParaHippocampal_R\n",
    "-3.4747497107086964   0.0008480185879881676 34 Caudate_R Putamen_R\n",
    "-4.242028777181495   6.18073660056054e-05 36 Putamen_L Pallidum_L\n",
    "-4.325012594951915   4.577559678609943e-05 37 Putamen_R Pallidum_R\n",
    "3.714585545118571   0.00038633025971287127 47 Cerebelum_7b_R Cerebelum_8_R\n",
    "-3.844963695093376   0.0002487563917747677 49 Vermis_4_5 Vermis_8"
   ]
  },
  {
   "attachments": {},
   "cell_type": "markdown",
   "metadata": {},
   "source": [
    "# Clinical score correlation : SARA score"
   ]
  },
  {
   "attachments": {},
   "cell_type": "markdown",
   "metadata": {},
   "source": []
  },
  {
   "cell_type": "code",
   "execution_count": 29,
   "metadata": {},
   "outputs": [
    {
     "data": {
      "text/plain": [
       "MR_ID\n",
       "ataxSCA3_ESMI_BON_119-429-801_20190905_FUP2    -1.0\n",
       "healcont_ESMI_BON_829-930-109_20210802_FUP2    -1.0\n",
       "ataxSCA3_ESMI_UCL_161-921-739_20190131_FUP2    24.0\n",
       "ataxSCA3_ESMI_UCL_451-652-033_20190228_FUP2    12.0\n",
       "ataxSCA3_ESMI_UCL_606-938-22X_20181113_FUP1    10.0\n",
       "                                               ... \n",
       "preaSCA3_ESMI_UCL_046-657-733_20180329_BASL     1.0\n",
       "preaSCA3_ESMI_UCL_517-413-040_20190312_FUP1     7.0\n",
       "preaSCA3_ESMI_UMN_364-749-652_20180228_BASL     2.5\n",
       "preaSCA3_ESMI_UMN_540-738-667_20180614_BASL     2.0\n",
       "preaSCA3_ESMI_UMN_765-298-811_20191220_BASL     0.0\n",
       "Name: sara_sum, Length: 284, dtype: float64"
      ]
     },
     "execution_count": 29,
     "metadata": {},
     "output_type": "execute_result"
    }
   ],
   "source": [
    "subj_info = pd.DataFrame()\n",
    "subj_info = pd.read_excel('rsfMRI_ESMI_epidem.xlsx',index_col=0)\n",
    "subj_info['sara_sum']"
   ]
  },
  {
   "cell_type": "code",
   "execution_count": 23,
   "metadata": {},
   "outputs": [
    {
     "data": {
      "text/plain": [
       "((36, 2), (36, 2))"
      ]
     },
     "execution_count": 23,
     "metadata": {},
     "output_type": "execute_result"
    }
   ],
   "source": [
    "from sklearn.cross_decomposition import CCA\n",
    "n_comp = 2\n",
    "X = masked_conn_patient[:NC,:]\n",
    "Y = masked_conn_control\n",
    "cca = CCA(n_components= n_comp)\n",
    "cca.fit(X, Y)\n",
    "X_c, Y_c = cca.transform(X, Y)\n",
    "X_c.shape, Y_c.shape"
   ]
  },
  {
   "cell_type": "code",
   "execution_count": 24,
   "metadata": {},
   "outputs": [
    {
     "data": {
      "text/plain": [
       "<BarContainer object of 2 artists>"
      ]
     },
     "execution_count": 24,
     "metadata": {},
     "output_type": "execute_result"
    },
    {
     "data": {
      "image/png": "[encoded data removed]",
      "text/plain": [
       "<Figure size 432x288 with 1 Axes>"
      ]
     },
     "metadata": {
      "needs_background": "light"
     },
     "output_type": "display_data"
    }
   ],
   "source": [
    "%matplotlib inline\n",
    "comp_corr = [np.corrcoef(X_c[:, i], Y_c[:, i])[1][0] for i in range(n_comp)]\n",
    "plt.bar(['CC1', 'CC2'], comp_corr, color='lightgrey', width = 0.8, edgecolor='k')"
   ]
  },
  {
   "cell_type": "markdown",
   "metadata": {},
   "source": []
  }
 ],
 "metadata": {
  "kernelspec": {
   "display_name": "Python 3",
   "language": "python",
   "name": "python3"
  },
  "language_info": {
   "codemirror_mode": {
    "name": "ipython",
    "version": 3
   },
   "file_extension": ".py",
   "mimetype": "text/x-python",
   "name": "python",
   "nbconvert_exporter": "python",
   "pygments_lexer": "ipython3",
   "version": "3.7.6"
  },
  "orig_nbformat": 4,
  "vscode": {
   "interpreter": {
    "hash": "916dbcbb3f70747c44a77c7bcd40155683ae19c65e1c03b4aa3499c5328201f1"
   }
  }
 },
 "nbformat": 4,
 "nbformat_minor": 2
}
