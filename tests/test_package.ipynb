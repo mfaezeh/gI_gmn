{
 "cells": [
  {
   "cell_type": "code",
   "execution_count": 18,
   "metadata": {},
   "outputs": [],
   "source": [
    "# %matplotlib inline\n",
    "import numpy as np\n",
    "import nibabel as nib\n",
    "import matplotlib.pyplot as plt\n",
    "import pandas as pd\n",
    "from pandas_profiling import ProfileReport\n",
    "from scipy.stats import pearsonr\n",
    "from scipy import stats\n",
    "from statsmodels.stats.anova import AnovaRM\n",
    "from sklearn.covariance import GraphicalLasso, graphical_lasso,EmpiricalCovariance\n",
    "from sklearn.decomposition import PCA, FastICA\n",
    "from nilearn.maskers import NiftiMasker\n",
    "from nilearn.maskers import NiftiLabelsMasker\n",
    "from nilearn.maskers import NiftiMapsMasker\n",
    "from sklearn.decomposition import PCA\n",
    "from sklearn.cluster import KMeans\n",
    "from nilearn.plotting import plot_stat_map, show, plot_epi, plot_prob_atlas, find_xyz_cut_coords, plot_roi\n",
    "from nilearn import image\n",
    "from nilearn.plotting import plot_stat_map, show\n",
    "from nilearn import plotting\n",
    "import seaborn as sns\n",
    "import os\n",
    "import importlib\n",
    "\n",
    "import gi_gmn\n",
    "import gi_gmn.utils as giu\n",
    "import gi_gmn.models as gim"
   ]
  },
  {
   "cell_type": "markdown",
   "metadata": {},
   "source": []
  },
  {
   "cell_type": "code",
   "execution_count": 13,
   "metadata": {},
   "outputs": [],
   "source": [
    "NP_train = 30\n",
    "NC_train = 25\n",
    "NP = 42\n",
    "NC = 36\n",
    "NPRE = 16\n",
    "NP_test = NP - NP_train\n",
    "NC_test = NC - NC_train\n",
    "TR = 170\n",
    "NRecord = 2\n",
    "ROI = 120\n",
    "\n",
    "all_col = ['Precentral_L', 'Precentral_R', 'Frontal_Sup_2_L', 'Frontal_Sup_2_R', 'Frontal_Mid_2_L', 'Frontal_Mid_2_R', 'Frontal_Inf_Oper_L', 'Frontal_Inf_Oper_R', 'Frontal_Inf_Tri_L', 'Frontal_Inf_Tri_R', 'Frontal_Inf_Orb_2_L', 'Frontal_Inf_Orb_2_R', 'Rolandic_Oper_L', 'Rolandic_Oper_R', 'Supp_Motor_Area_L', 'Supp_Motor_Area_R', 'Olfactory_L', 'Olfactory_R', 'Frontal_Sup_Medial_L', 'Frontal_Sup_Medial_R', 'Frontal_Med_Orb_L', 'Frontal_Med_Orb_R', 'Rectus_L', 'Rectus_R', 'OFCmed_L', 'OFCmed_R', 'OFCant_L', 'OFCant_R', 'OFCpost_L', 'OFCpost_R', 'OFClat_L', 'OFClat_R', 'Insula_L', 'Insula_R', 'Cingulate_Ant_L', 'Cingulate_Ant_R', 'Cingulate_Mid_L', 'Cingulate_Mid_R', 'Cingulate_Post_L', 'Cingulate_Post_R', 'Hippocampus_L', 'Hippocampus_R', 'ParaHippocampal_L', 'ParaHippocampal_R', 'Amygdala_L', 'Amygdala_R', 'Calcarine_L', 'Calcarine_R', 'Cuneus_L', 'Cuneus_R', 'Lingual_L', 'Lingual_R', 'Occipital_Sup_L', 'Occipital_Sup_R', 'Occipital_Mid_L', 'Occipital_Mid_R', 'Occipital_Inf_L', 'Occipital_Inf_R', 'Fusiform_L', 'Fusiform_R', 'Postcentral_L', 'Postcentral_R', 'Parietal_Sup_L', 'Parietal_Sup_R', 'Parietal_Inf_L', 'Parietal_Inf_R', 'SupraMarginal_L', 'SupraMarginal_R', 'Angular_L', 'Angular_R', 'Precuneus_L', 'Precuneus_R', 'Paracentral_Lobule_L', 'Paracentral_Lobule_R', 'Caudate_L', 'Caudate_R', 'Putamen_L', 'Putamen_R', 'Pallidum_L', 'Pallidum_R', 'Thalamus_L', 'Thalamus_R', 'Heschl_L', 'Heschl_R', 'Temporal_Sup_L', 'Temporal_Sup_R', 'Temporal_Pole_Sup_L', 'Temporal_Pole_Sup_R', 'Temporal_Mid_L', 'Temporal_Mid_R', 'Temporal_Pole_Mid_L', 'Temporal_Pole_Mid_R', 'Temporal_Inf_L', 'Temporal_Inf_R', 'Cerebelum_Crus1_L', 'Cerebelum_Crus1_R', 'Cerebelum_Crus2_L', 'Cerebelum_Crus2_R', 'Cerebelum_3_L', 'Cerebelum_3_R', 'Cerebelum_4_5_L', 'Cerebelum_4_5_R', 'Cerebelum_6_L', 'Cerebelum_6_R', 'Cerebelum_7b_L', 'Cerebelum_7b_R', 'Cerebelum_8_L', 'Cerebelum_8_R', 'Cerebelum_9_L', 'Cerebelum_9_R', 'Cerebelum_10_L', 'Cerebelum_10_R', 'Vermis_1_2', 'Vermis_3', 'Vermis_4_5', 'Vermis_6', 'Vermis_7', 'Vermis_8', 'Vermis_9', 'Vermis_10']\n"
   ]
  },
  {
   "cell_type": "code",
   "execution_count": 14,
   "metadata": {},
   "outputs": [
    {
     "name": "stdout",
     "output_type": "stream",
     "text": [
      "/users/grad/fmoradi/Graphical_LASSO/package/tests\n"
     ]
    }
   ],
   "source": [
    "!pwd\n"
   ]
  },
  {
   "cell_type": "code",
   "execution_count": 15,
   "metadata": {},
   "outputs": [
    {
     "data": {
      "text/plain": [
       "((14280, 120), (12240, 120))"
      ]
     },
     "execution_count": 15,
     "metadata": {},
     "output_type": "execute_result"
    }
   ],
   "source": [
    "#reading data loading thm into matrix size of N*TR * ROI\n",
    "control_data  = pd.read_csv('../../Ataxia/control_data_twoyear.csv',index_col=0).to_numpy()\n",
    "patient_data = pd.read_csv('../../Ataxia/patient_data_twoyear.csv',index_col=0).to_numpy()\n",
    "patient_data.shape, control_data.shape\n"
   ]
  },
  {
   "cell_type": "code",
   "execution_count": 16,
   "metadata": {},
   "outputs": [
    {
     "name": "stdout",
     "output_type": "stream",
     "text": [
      "DEBUG\n",
      "DEBUG\n",
      "DEBUG\n",
      "DEBUG\n",
      "DEBUG\n",
      "DEBUG\n",
      "DEBUG\n",
      "DEBUG\n",
      "DEBUG\n",
      "DEBUG\n",
      "0.5166666666666666 0.17795130420052185 0.9636363636363636 0.04453617714151235\n"
     ]
    }
   ],
   "source": [
    "importlib.reload(gi_gmn)\n",
    "importlib.reload(gi_gmn.utils)\n",
    "# group level GMN - performance on test and saving preciison matrix \n",
    "runs = 5\n",
    "\n",
    "# best model for year one and year two on cross sectional\n",
    "alpha_p = 0.07\n",
    "alpha_c = 0.07\n",
    "\n",
    "a_p , a_c = [],[]\n",
    "\n",
    "\n",
    "\n",
    "for i in range(runs):\n",
    "\n",
    "    #randomly select controls for test\n",
    "    index_control = [np.random.choice(np.arange(0 , NC - 1), size = NC_test,replace = False)]\n",
    "    control = [j for j in range(NC)]\n",
    "    index_control_test = list(index_control[0])\n",
    "    index_control_train = list(set(control)  - set(index_control_test))\n",
    "\n",
    "    #randomly select patients for test\n",
    "    index_patient = [np.random.choice(np.arange(0 , NP - 1), size = NP_test,replace = False)]\n",
    "    patient = [j for j in range(NP)]\n",
    "    index_patient_test = list(index_patient[0])\n",
    "    index_patient_train = list(set(patient)  - set(index_patient_test))\n",
    "\n",
    "\n",
    "    parts_c = giu.split_into_chunks(control_data, TR*NRecord)\n",
    "    parts_p = giu.split_into_chunks(patient_data, TR*NRecord)\n",
    "\n",
    "\n",
    "    control_test_data = np.array([part for i,part in enumerate(parts_c) if i in index_control_test ]).reshape(NC_test*TR*NRecord,ROI)\n",
    "    control_train_data = np.array([part for i,part in enumerate(parts_c) if i in index_control_train ]).reshape(NC_train*TR*NRecord,ROI)\n",
    "\n",
    "    patient_test_data = np.array([part for i,part in enumerate(parts_p) if i in index_patient_test ]).reshape(NP_test*TR*NRecord,ROI)\n",
    "    patient_train_data = np.array([part for i,part in enumerate(parts_p) if i in index_patient_train ]).reshape(NP_train*TR*NRecord,ROI)\n",
    "\n",
    "    \n",
    "\n",
    "    # get the distribution and Convatraince matrix of the model\n",
    "    patientGL = GraphicalLasso(alpha = alpha_p,max_iter = 350)\n",
    "    controlGL = GraphicalLasso(alpha = alpha_c,max_iter = 360)\n",
    "\n",
    "\n",
    "    # train the model\n",
    "    patient_model = patientGL.fit(patient_train_data)\n",
    "    control_model = controlGL.fit(control_train_data)\n",
    "\n",
    "\n",
    "    cov_patient = np.around(patient_model.precision_, decimals=3)\n",
    "    cov_control = np.around(control_model.precision_, decimals=3)\n",
    "\n",
    "    # print(degree_sparsity(cov_control),degree_sparsity(cov_patient))\n",
    "\n",
    "    #save the precision matrix - group level\n",
    "    # cov_control = pd.DataFrame(cov_control)\n",
    "    # cov_control.to_csv('../../Ataxia/control_precision.csv',index = False)\n",
    "    # cov_patient = pd.DataFrame(cov_patient)\n",
    "    # cov_patient.to_csv('../../Ataxia/patient_precision.csv',index = False)\n",
    "\n",
    "    #test\n",
    "    recall_p = 0 \n",
    "    recall_c = 0\n",
    "\n",
    "    for indx in range(0,patient_test_data.shape[0],TR*NRecord):\n",
    "        log_prob_control = controlGL.score(patient_test_data[indx:indx+TR*NRecord,:])\n",
    "        log_prob_patient = patientGL.score(patient_test_data[indx:indx+TR*NRecord,:])\n",
    "        # print(log_prob_patient-log_prob_control)\n",
    "        if (log_prob_control<log_prob_patient):\n",
    "            recall_p = recall_p + 1\n",
    "            \n",
    "    for indx in range(0,control_test_data.shape[0],TR*NRecord):\n",
    "        log_prob_control = controlGL.score(control_test_data[indx:indx+TR*NRecord,:])\n",
    "        log_prob_patient = patientGL.score(control_test_data[indx:indx+TR*NRecord,:])\n",
    "        # print(log_prob_patient-log_prob_control)\n",
    "        if (log_prob_control>log_prob_patient):\n",
    "            recall_c = recall_c + 1\n",
    "\n",
    "\n",
    "    recall_p = recall_p / NP_test\n",
    "    recall_c = recall_c / NC_test\n",
    "    a_p.append(recall_p)\n",
    "    a_c.append(recall_c)\n",
    "\n",
    "print(np.array(a_p).mean(),np.array(a_p).std(), np.array(a_c).mean(), np.array(a_c).std())"
   ]
  },
  {
   "cell_type": "code",
   "execution_count": 26,
   "metadata": {},
   "outputs": [
    {
     "name": "stdout",
     "output_type": "stream",
     "text": [
      "Model: Group-Subject GMN\n",
      "Model fitted successfully!\n"
     ]
    }
   ],
   "source": [
    "importlib.reload(gi_gmn)\n",
    "importlib.reload(gi_gmn.models)\n",
    "\n",
    "model = gim.GroupSubjectGMN()\n",
    "model.fit()"
   ]
  },
  {
   "cell_type": "code",
   "execution_count": 1,
   "metadata": {},
   "outputs": [],
   "source": [
    "import gi_gmn.visualization as vis\n"
   ]
  }
 ],
 "metadata": {
  "kernelspec": {
   "display_name": "Python 3",
   "language": "python",
   "name": "python3"
  },
  "language_info": {
   "codemirror_mode": {
    "name": "ipython",
    "version": 3
   },
   "file_extension": ".py",
   "mimetype": "text/x-python",
   "name": "python",
   "nbconvert_exporter": "python",
   "pygments_lexer": "ipython3",
   "version": "3.7.6"
  },
  "orig_nbformat": 4,
  "vscode": {
   "interpreter": {
    "hash": "916dbcbb3f70747c44a77c7bcd40155683ae19c65e1c03b4aa3499c5328201f1"
   }
  }
 },
 "nbformat": 4,
 "nbformat_minor": 2
}
